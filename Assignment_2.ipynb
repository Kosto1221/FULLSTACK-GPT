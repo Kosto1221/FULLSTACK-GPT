{
 "cells": [
  {
   "cell_type": "code",
   "execution_count": 1,
   "metadata": {},
   "outputs": [
    {
     "name": "stdout",
     "output_type": "stream",
     "text": [
      "I know this:\n",
      "        Director: Jon Favreau\n",
      "        Top cast: Robert Downey Jr., Gwyneth Paltrow, Jeff Bridges\n",
      "        Budget: $140 million\n",
      "        Box office: $585.2 million\n",
      "        Genre: Action, Adventure, Sci-Fi\n",
      "        Storyline: Tony Stark, playboy billionaire and genius inventor, is kidnapped by terrorists who want him to build a weapon of mass destruction. Instead, he creates a powered suit of armor to save his life and escape captivity. Upon his return to the United States, Stark refines the suit and uses it to combat evil forces as the armored superhero Iron Man."
     ]
    },
    {
     "data": {
      "text/plain": [
       "AIMessageChunk(content='I know this:\\n        Director: Jon Favreau\\n        Top cast: Robert Downey Jr., Gwyneth Paltrow, Jeff Bridges\\n        Budget: $140 million\\n        Box office: $585.2 million\\n        Genre: Action, Adventure, Sci-Fi\\n        Storyline: Tony Stark, playboy billionaire and genius inventor, is kidnapped by terrorists who want him to build a weapon of mass destruction. Instead, he creates a powered suit of armor to save his life and escape captivity. Upon his return to the United States, Stark refines the suit and uses it to combat evil forces as the armored superhero Iron Man.')"
      ]
     },
     "execution_count": 1,
     "metadata": {},
     "output_type": "execute_result"
    }
   ],
   "source": [
    "from langchain.chat_models import ChatOpenAI\n",
    "from langchain.prompts.few_shot import FewShotChatMessagePromptTemplate\n",
    "from langchain.callbacks import StreamingStdOutCallbackHandler\n",
    "from langchain.prompts import ChatMessagePromptTemplate, ChatPromptTemplate\n",
    "\n",
    "chat = ChatOpenAI(\n",
    "    temperature=0.1,\n",
    "    streaming=True,\n",
    "    callbacks=[\n",
    "        StreamingStdOutCallbackHandler(),\n",
    "    ],\n",
    ")\n",
    "\n",
    "examples = [\n",
    "    {\n",
    "        \"movie\":\"Casablanca\",\n",
    "        \"answer\": \"\"\"\n",
    "        I know this:\n",
    "        Director: Michael Curtiz\n",
    "        Top cast: Humphrey Bogart, Ingrid Bergman, Paul Henreid\n",
    "        Budget: $878,000–$1 million\n",
    "        Box office: $3.7–6.9 million\n",
    "        Genre: Romantic Drama\n",
    "        Storyline: The story of Rick Blaine, a cynical world-weary ex-patriate who runs a nightclub in Casablanca, Morocco during the early stages of WWII. Despite the pressure he constantly receives from the local authorities, Rick's cafe has become a kind of haven for refugees seeking to obtain illicit letters that will help them escape to America. But when Ilsa, a former lover of Rick's, and her husband, show up to his cafe one day, Rick faces a tough challenge which will bring up unforeseen complications, heartbreak and ultimately an excruciating decision to make.\n",
    "        \"\"\"\n",
    "    },\n",
    "    {\n",
    "        \"movie\":\"Fight Club\",\n",
    "        \"answer\": \"\"\"\n",
    "        I know this:\n",
    "        Director: David Fincher\n",
    "        Top cast: Brad Pitt, Edward Norton, Meat Loaf\n",
    "        Budget: $63–65 million\n",
    "        Box office: $101.2 million\n",
    "        Genre: Drama\n",
    "        Storyline: A nameless first person narrator (Edward Norton) attends support groups in attempt to subdue his emotional state and relieve his insomniac state. When he meets Marla (Helena Bonham Carter), another fake attendee of support groups, his life seems to become a little more bearable. However when he associates himself with Tyler (Brad Pitt) he is dragged into an underground fight club and soap making scheme. Together the two men spiral out of control and engage in competitive rivalry for love and power.\n",
    "        \"\"\"\n",
    "    },\n",
    "    {\n",
    "        \"movie\":\"Avatar\",\n",
    "        \"answer\": \"\"\"\n",
    "        I know this:\n",
    "        Director: James Cameron\n",
    "        Top cast: Sam Worthington, Zoe Saldana, Stephen Lang, Michelle Rodriguez, Sigourney Weaver\n",
    "        Budget: $237 million\n",
    "        Box office: $2.923 billion\n",
    "        Genre: Action, Adventure, Fantasy, Sci-Fi\n",
    "        Storyline: When his brother is killed in a robbery, paraplegic Marine Jake Sully decides to take his place in a mission on the distant world of Pandora. There he learns of greedy corporate figurehead Parker Selfridge's intentions of driving off the native humanoid \"Na'vi\" in order to mine for the precious material scattered throughout their rich woodland. In exchange for the spinal surgery that will fix his legs, Jake gathers knowledge, of the Indigenous Race and their Culture, for the cooperating military unit spearheaded by gung-ho Colonel Quaritch, while simultaneously attempting to infiltrate the Na'vi people with the use of an \"avatar\" identity. While Jake begins to bond with the native tribe and quickly falls in love with the beautiful alien Neytiri, the restless Colonel moves forward with his ruthless extermination tactics, forcing the soldier to take a stand - and fight back in an epic battle for the fate of Pandora.\n",
    "        \"\"\"\n",
    "    },\n",
    "]\n",
    "\n",
    "example_prompt = ChatPromptTemplate.from_messages([\n",
    "    (\"human\", \"What do you know about {movie}?\"),\n",
    "    (\"ai\", \"{answer}\"),\n",
    "])\n",
    "\n",
    "example_prompt = FewShotChatMessagePromptTemplate(\n",
    "    example_prompt=example_prompt,\n",
    "    examples=examples,\n",
    ")\n",
    "\n",
    "final_prompt = ChatPromptTemplate.from_messages([\n",
    "    (\"system\", \"You are a movie buff and remember every little detail about movies.\"),\n",
    "    example_prompt,\n",
    "    (\"human\", \"What do you know about {movie}?\")\n",
    "])\n",
    "\n",
    "chain = final_prompt | chat\n",
    "\n",
    "chain.invoke({\"movie\":\"Iron man\"})"
   ]
  }
 ],
 "metadata": {
  "kernelspec": {
   "display_name": "env",
   "language": "python",
   "name": "python3"
  },
  "language_info": {
   "codemirror_mode": {
    "name": "ipython",
    "version": 3
   },
   "file_extension": ".py",
   "mimetype": "text/x-python",
   "name": "python",
   "nbconvert_exporter": "python",
   "pygments_lexer": "ipython3",
   "version": "3.11.6"
  }
 },
 "nbformat": 4,
 "nbformat_minor": 2
}
