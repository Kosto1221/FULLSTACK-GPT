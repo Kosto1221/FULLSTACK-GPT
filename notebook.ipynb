{
 "cells": [
  {
   "cell_type": "code",
   "execution_count": 2,
   "metadata": {},
   "outputs": [],
   "source": [
    "from langchain.chat_models import ChatOpenAI\n",
    "from langchain.prompts import ChatPromptTemplate\n",
    "from langchain.callbacks import StreamingStdOutCallbackHandler\n",
    "\n",
    "chat = ChatOpenAI(\n",
    "    temperature=0.1,\n",
    "    streaming=True,\n",
    "    callbacks=[\n",
    "        StreamingStdOutCallbackHandler(),\n",
    "    ]\n",
    ")\n",
    "\n",
    "poem_prompt = ChatPromptTemplate.from_messages([\n",
    "    (\"system\", \"You are a professional poet. You specialize in writing technical and satirical poetry about programming languages.\"),\n",
    "    (\"human\", \"Please write a poem about {specific} programming language.\"),\n",
    "])\n",
    "\n",
    "poem_chain = poem_prompt | chat"
   ]
  },
  {
   "cell_type": "code",
   "execution_count": 3,
   "metadata": {},
   "outputs": [
    {
     "name": "stdout",
     "output_type": "stream",
     "text": [
      "In the land of systems, strong and true,\n",
      "There lies a language, bold and new.\n",
      "With memory safety as its creed,\n",
      "Rust is the tool that developers need.\n",
      "\n",
      "Its syntax clean, its rules are strict,\n",
      "No dangling pointers to afflict.\n",
      "Concurrency is where it shines,\n",
      "With fearless threads, it never whines.\n",
      "\n",
      "Borrow checker, oh so wise,\n",
      "Ensures no data races arise.\n",
      "Ownership model, clear and sound,\n",
      "No more segfaults to confound.\n",
      "\n",
      "But beware, oh coder brave,\n",
      "Rust demands the respect it craves.\n",
      "Lifetime annotations, cryptic runes,\n",
      "Challenge even the brightest boons.\n",
      "\n",
      "So wield Rust with skill and care,\n",
      "For in its power, great perils stare.\n",
      "But if you master its arcane art,\n",
      "You'll code with grace, a work of art.This poem is an ode to the programming language Rust. It praises Rust for its memory safety features, clean syntax, strict rules, and strong concurrency support. The poem highlights Rust's key features such as the borrow checker that prevents data races, ownership model that eliminates segmentation faults, and the challenges of lifetime annotations. It warns developers to respect Rust's complexity but promises that mastering it will result in elegant and powerful code."
     ]
    },
    {
     "data": {
      "text/plain": [
       "AIMessageChunk(content=\"This poem is an ode to the programming language Rust. It praises Rust for its memory safety features, clean syntax, strict rules, and strong concurrency support. The poem highlights Rust's key features such as the borrow checker that prevents data races, ownership model that eliminates segmentation faults, and the challenges of lifetime annotations. It warns developers to respect Rust's complexity but promises that mastering it will result in elegant and powerful code.\")"
      ]
     },
     "execution_count": 3,
     "metadata": {},
     "output_type": "execute_result"
    }
   ],
   "source": [
    "critic_prompt = ChatPromptTemplate.from_messages([\n",
    "    (\"system\", \"You are a critic who explains difficult poems in an easy-to-understand manner for the general public. If it is difficult to explain, answer that you don't understand.\"),\n",
    "    (\"human\", \"{poem}\")\n",
    "])\n",
    "\n",
    "critic_chain = critic_prompt | chat\n",
    "\n",
    "final_chain = {\"poem\": poem_chain} | critic_chain \n",
    "\n",
    "final_chain.invoke({\"specific\": \"rust\"})"
   ]
  },
  {
   "cell_type": "code",
   "execution_count": null,
   "metadata": {},
   "outputs": [],
   "source": []
  }
 ],
 "metadata": {
  "kernelspec": {
   "display_name": "env",
   "language": "python",
   "name": "python3"
  },
  "language_info": {
   "codemirror_mode": {
    "name": "ipython",
    "version": 3
   },
   "file_extension": ".py",
   "mimetype": "text/x-python",
   "name": "python",
   "nbconvert_exporter": "python",
   "pygments_lexer": "ipython3",
   "version": "3.11.6"
  }
 },
 "nbformat": 4,
 "nbformat_minor": 2
}
