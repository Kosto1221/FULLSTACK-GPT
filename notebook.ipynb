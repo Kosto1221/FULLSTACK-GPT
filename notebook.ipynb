{
 "cells": [
  {
   "cell_type": "code",
   "execution_count": 3,
   "metadata": {},
   "outputs": [
    {
     "name": "stdout",
     "output_type": "stream",
     "text": [
      "\n",
      "\n",
      "\u001b[1m> Entering new AgentExecutor chain...\u001b[0m\n",
      "\u001b[32;1m\u001b[1;3mTo find the total cost, I need to sum all the given amounts together. \n",
      "\n",
      "Action: Sum Calculator  \n",
      "Action Input: 355.39, 924.87  \u001b[0m\n",
      "Observation: \u001b[36;1m\u001b[1;3m1280.26\u001b[0m\n",
      "Thought:\u001b[32;1m\u001b[1;3mI have the sum of the first two amounts, which is $1280.26. Now I need to add the next amount, $721.20.\n",
      "\n",
      "Action: Sum Calculator  \n",
      "Action Input: 1280.26, 721.20  \u001b[0m\n",
      "Observation: \u001b[36;1m\u001b[1;3m2001.46\u001b[0m\n",
      "Thought:\u001b[32;1m\u001b[1;3mI have the sum of the first three amounts, which is $2001.46. Now I need to add the next amount, $1940.29.\n",
      "\n",
      "Action: Sum Calculator  \n",
      "Action Input: 2001.46, 1940.29  \u001b[0m\n",
      "Observation: \u001b[36;1m\u001b[1;3m3941.75\u001b[0m\n",
      "Thought:\u001b[32;1m\u001b[1;3mI have the sum of the first four amounts, which is $3941.75. Now I need to add the next amount, $573.63.\n",
      "\n",
      "Action: Sum Calculator  \n",
      "Action Input: 3941.75, 573.63  \u001b[0m\n",
      "Observation: \u001b[36;1m\u001b[1;3m4515.38\u001b[0m\n",
      "Thought:\u001b[32;1m\u001b[1;3mI have the sum of the first five amounts, which is $4515.38. Now I need to add the next amount, $65.72.\n",
      "\n",
      "Action: Sum Calculator  \n",
      "Action Input: 4515.38, 65.72  \u001b[0m\n",
      "Observation: \u001b[36;1m\u001b[1;3m4581.1\u001b[0m\n",
      "Thought:\u001b[32;1m\u001b[1;3mI have the sum of the first six amounts, which is $4581.10. Now I need to add the next amount, $35.00.\n",
      "\n",
      "Action: Sum Calculator  \n",
      "Action Input: 4581.10, 35.00  \u001b[0m\n",
      "Observation: \u001b[36;1m\u001b[1;3m4616.1\u001b[0m\n",
      "Thought:\u001b[32;1m\u001b[1;3mI have the sum of the first seven amounts, which is $4616.10. Now I need to add the next amount, $552.00.\n",
      "\n",
      "Action: Sum Calculator  \n",
      "Action Input: 4616.10, 552.00  \u001b[0m\n",
      "Observation: \u001b[36;1m\u001b[1;3m5168.1\u001b[0m\n",
      "Thought:\u001b[32;1m\u001b[1;3mI have the sum of the first eight amounts, which is $5168.10. Now I need to add the next amount, $76.16.\n",
      "\n",
      "Action: Sum Calculator  \n",
      "Action Input: 5168.10, 76.16  \u001b[0m\n",
      "Observation: \u001b[36;1m\u001b[1;3m5244.26\u001b[0m\n",
      "Thought:\u001b[32;1m\u001b[1;3mI have the sum of the first nine amounts, which is $5244.26. Now I need to add the last amount, $29.12.\n",
      "\n",
      "Action: Sum Calculator  \n",
      "Action Input: 5244.26, 29.12  \u001b[0m\n",
      "Observation: \u001b[36;1m\u001b[1;3m5273.38\u001b[0m\n",
      "Thought:\u001b[32;1m\u001b[1;3mI have now summed all the amounts together, resulting in a total of $5273.38. \n",
      "\n",
      "Final Answer: $5273.38\u001b[0m\n",
      "\n",
      "\u001b[1m> Finished chain.\u001b[0m\n"
     ]
    },
    {
     "data": {
      "text/plain": [
       "{'input': 'Cost of $355.39 + $924.87 + $721.2 + $1940.29 + $573.63 + $65.72 + $35.00 + $552.00 + $76.16 + $29.12',\n",
       " 'output': '$5273.38'}"
      ]
     },
     "execution_count": 3,
     "metadata": {},
     "output_type": "execute_result"
    }
   ],
   "source": [
    "from langchain.chat_models import ChatOpenAI\n",
    "from langchain.tools import Tool\n",
    "from langchain.agents import initialize_agent, AgentType\n",
    "\n",
    "llm = ChatOpenAI(\n",
    "    temperature=0.1,\n",
    "    model=\"gpt-4o-mini\"\n",
    "    )\n",
    "\n",
    "def plus(inputs):\n",
    "    a, b = inputs.split(\",\")\n",
    "    return float(a) + float(b)\n",
    "\n",
    "agent = initialize_agent(\n",
    "    llm=llm,\n",
    "    verbose=True,\n",
    "    agent=AgentType.ZERO_SHOT_REACT_DESCRIPTION,\n",
    "    handle_parsing_errors=True,\n",
    "    tools=[\n",
    "        Tool.from_function(\n",
    "            func=plus,\n",
    "            name=\"Sum Calculator\",\n",
    "            description=\"Use this to perform sums of two numbers. Use this tool by sending a pair of number separated by a comma. \\nExample: 1,2\",\n",
    "\n",
    "        )\n",
    "    ],\n",
    ")\n",
    "\n",
    "prompt = \"Cost of $355.39 + $924.87 + $721.2 + $1940.29 + $573.63 + $65.72 + $35.00 + $552.00 + $76.16 + $29.12\"\n",
    "\n",
    "agent.invoke(prompt)"
   ]
  },
  {
   "cell_type": "code",
   "execution_count": null,
   "metadata": {},
   "outputs": [],
   "source": []
  }
 ],
 "metadata": {
  "kernelspec": {
   "display_name": "env",
   "language": "python",
   "name": "python3"
  },
  "language_info": {
   "codemirror_mode": {
    "name": "ipython",
    "version": 3
   },
   "file_extension": ".py",
   "mimetype": "text/x-python",
   "name": "python",
   "nbconvert_exporter": "python",
   "pygments_lexer": "ipython3",
   "version": "3.11.6"
  }
 },
 "nbformat": 4,
 "nbformat_minor": 2
}
