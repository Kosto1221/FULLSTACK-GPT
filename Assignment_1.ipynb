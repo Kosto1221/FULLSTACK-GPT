{
 "cells": [
  {
   "cell_type": "code",
   "execution_count": 4,
   "metadata": {},
   "outputs": [],
   "source": [
    "from langchain.chat_models import ChatOpenAI\n",
    "from langchain.prompts import ChatPromptTemplate\n",
    "from langchain.callbacks import StreamingStdOutCallbackHandler\n",
    "\n",
    "chat = ChatOpenAI(\n",
    "    temperature=0.1,\n",
    "    streaming=True,\n",
    "    callbacks=[\n",
    "        StreamingStdOutCallbackHandler(),\n",
    "    ]\n",
    ")\n",
    "\n",
    "poem_prompt = ChatPromptTemplate.from_messages([\n",
    "    (\"system\", \"You are a professional poet. You specialize in writing technical and satirical poetry about programming languages.\"),\n",
    "    (\"human\", \"Please write a poem about {specific} programming language.\"),\n",
    "])\n",
    "\n",
    "poem_chain = poem_prompt | chat"
   ]
  },
  {
   "cell_type": "code",
   "execution_count": 5,
   "metadata": {},
   "outputs": [
    {
     "name": "stdout",
     "output_type": "stream",
     "text": [
      "In the land of systems, strong and bold,\n",
      "There lies a language, a tale untold.\n",
      "Rust, they call it, with iron might,\n",
      "A language that shines in the programming light.\n",
      "\n",
      "With memory safety as its crown,\n",
      "It guards against bugs that bring systems down.\n",
      "No more dangling pointers, no more leaks,\n",
      "Rust ensures your code is sleek.\n",
      "\n",
      "Its syntax is strict, its rules are firm,\n",
      "But fear not, for it will confirm\n",
      "That your code is sound, that it will run,\n",
      "With speed and safety, second to none.\n",
      "\n",
      "Borrowing and lifetimes, traits and more,\n",
      "Rust offers tools to explore\n",
      "The depths of systems, the power within,\n",
      "A language that's sure to win.\n",
      "\n",
      "So raise a toast to Rust, the language of steel,\n",
      "Where systems are built with a robust zeal.\n",
      "In the world of programming, it stands tall,\n",
      "A language that conquers, never to fall.This poem is an ode to the programming language Rust. The poet describes Rust as a strong and bold language that shines in the world of programming. It emphasizes Rust's focus on memory safety, which helps prevent bugs and errors in code. The poem praises Rust for its strict syntax and rules, ensuring that code is reliable and efficient.\n",
      "\n",
      "The poet also mentions Rust's features such as borrowing, lifetimes, and traits, which are tools that help developers explore and harness the power of systems programming. Rust is portrayed as a language that is both powerful and safe, offering speed and security unmatched by others.\n",
      "\n",
      "Overall, the poem celebrates Rust as a language of steel, capable of building robust systems with confidence and resilience in the world of programming."
     ]
    },
    {
     "data": {
      "text/plain": [
       "AIMessageChunk(content=\"This poem is an ode to the programming language Rust. The poet describes Rust as a strong and bold language that shines in the world of programming. It emphasizes Rust's focus on memory safety, which helps prevent bugs and errors in code. The poem praises Rust for its strict syntax and rules, ensuring that code is reliable and efficient.\\n\\nThe poet also mentions Rust's features such as borrowing, lifetimes, and traits, which are tools that help developers explore and harness the power of systems programming. Rust is portrayed as a language that is both powerful and safe, offering speed and security unmatched by others.\\n\\nOverall, the poem celebrates Rust as a language of steel, capable of building robust systems with confidence and resilience in the world of programming.\")"
      ]
     },
     "execution_count": 5,
     "metadata": {},
     "output_type": "execute_result"
    }
   ],
   "source": [
    "critic_prompt = ChatPromptTemplate.from_messages([\n",
    "    (\"system\", \"You are a critic who explains difficult poems in an easy-to-understand manner for the general public. If it is difficult to explain, answer that you don't understand.\"),\n",
    "    (\"human\", \"{poem}\")\n",
    "])\n",
    "\n",
    "critic_chain = critic_prompt | chat\n",
    "\n",
    "final_chain = {\"poem\": poem_chain} | critic_chain \n",
    "\n",
    "final_chain.invoke({\"specific\": \"rust\"})"
   ]
  },
  {
   "cell_type": "code",
   "execution_count": null,
   "metadata": {},
   "outputs": [],
   "source": []
  }
 ],
 "metadata": {
  "kernelspec": {
   "display_name": "env",
   "language": "python",
   "name": "python3"
  },
  "language_info": {
   "codemirror_mode": {
    "name": "ipython",
    "version": 3
   },
   "file_extension": ".py",
   "mimetype": "text/x-python",
   "name": "python",
   "nbconvert_exporter": "python",
   "pygments_lexer": "ipython3",
   "version": "3.11.6"
  }
 },
 "nbformat": 4,
 "nbformat_minor": 2
}
